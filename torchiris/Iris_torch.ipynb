{
 "cells": [
  {
   "cell_type": "code",
   "execution_count": 1,
   "metadata": {},
   "outputs": [],
   "source": [
    "import torch \n",
    "import torch.nn as nn\n",
    "import torch.nn.functional as F"
   ]
  },
  {
   "cell_type": "code",
   "execution_count": 2,
   "metadata": {},
   "outputs": [],
   "source": [
    "class Model(nn.Module):\n",
    "       \n",
    "    def __init__(self, in_features = 4, h1 = 8, h2 = 9, out_features = 3):\n",
    "        \n",
    "        # num of layers?\n",
    "        #Input (4 features) -> h1 N hiddden -> h2 N hidden -> output (3 classes) \n",
    "        \n",
    "        super().__init__()    \n",
    "        self.fc1 = nn.Linear(in_features, h1)\n",
    "        self.fc2 = nn.Linear(h1, h2)\n",
    "        self.out = nn.Linear(h2, out_features)\n",
    "        \n",
    "        \n",
    "    def forward(self, x):\n",
    "        \n",
    "        x = F.relu(self.fc1(x))\n",
    "        x = F.relu(self.fc2(x))\n",
    "        x = self.out(x)\n",
    "        \n",
    "        return x"
   ]
  },
  {
   "cell_type": "code",
   "execution_count": 3,
   "metadata": {},
   "outputs": [],
   "source": [
    "torch.manual_seed(44)\n",
    "model = Model()"
   ]
  },
  {
   "cell_type": "code",
   "execution_count": 4,
   "metadata": {},
   "outputs": [],
   "source": [
    "import pandas as pd\n",
    "import matplotlib.pyplot as plt\n",
    "%matplotlib inline"
   ]
  },
  {
   "cell_type": "code",
   "execution_count": 5,
   "metadata": {},
   "outputs": [
    {
     "data": {
      "text/html": [
       "<div>\n",
       "<style scoped>\n",
       "    .dataframe tbody tr th:only-of-type {\n",
       "        vertical-align: middle;\n",
       "    }\n",
       "\n",
       "    .dataframe tbody tr th {\n",
       "        vertical-align: top;\n",
       "    }\n",
       "\n",
       "    .dataframe thead th {\n",
       "        text-align: right;\n",
       "    }\n",
       "</style>\n",
       "<table border=\"1\" class=\"dataframe\">\n",
       "  <thead>\n",
       "    <tr style=\"text-align: right;\">\n",
       "      <th></th>\n",
       "      <th>sepal length (cm)</th>\n",
       "      <th>sepal width (cm)</th>\n",
       "      <th>petal length (cm)</th>\n",
       "      <th>petal width (cm)</th>\n",
       "      <th>target</th>\n",
       "    </tr>\n",
       "  </thead>\n",
       "  <tbody>\n",
       "    <tr>\n",
       "      <th>0</th>\n",
       "      <td>5.1</td>\n",
       "      <td>3.5</td>\n",
       "      <td>1.4</td>\n",
       "      <td>0.2</td>\n",
       "      <td>0.0</td>\n",
       "    </tr>\n",
       "    <tr>\n",
       "      <th>1</th>\n",
       "      <td>4.9</td>\n",
       "      <td>3.0</td>\n",
       "      <td>1.4</td>\n",
       "      <td>0.2</td>\n",
       "      <td>0.0</td>\n",
       "    </tr>\n",
       "    <tr>\n",
       "      <th>2</th>\n",
       "      <td>4.7</td>\n",
       "      <td>3.2</td>\n",
       "      <td>1.3</td>\n",
       "      <td>0.2</td>\n",
       "      <td>0.0</td>\n",
       "    </tr>\n",
       "    <tr>\n",
       "      <th>3</th>\n",
       "      <td>4.6</td>\n",
       "      <td>3.1</td>\n",
       "      <td>1.5</td>\n",
       "      <td>0.2</td>\n",
       "      <td>0.0</td>\n",
       "    </tr>\n",
       "    <tr>\n",
       "      <th>4</th>\n",
       "      <td>5.0</td>\n",
       "      <td>3.6</td>\n",
       "      <td>1.4</td>\n",
       "      <td>0.2</td>\n",
       "      <td>0.0</td>\n",
       "    </tr>\n",
       "  </tbody>\n",
       "</table>\n",
       "</div>"
      ],
      "text/plain": [
       "   sepal length (cm)  sepal width (cm)  petal length (cm)  petal width (cm)  \\\n",
       "0                5.1               3.5                1.4               0.2   \n",
       "1                4.9               3.0                1.4               0.2   \n",
       "2                4.7               3.2                1.3               0.2   \n",
       "3                4.6               3.1                1.5               0.2   \n",
       "4                5.0               3.6                1.4               0.2   \n",
       "\n",
       "   target  \n",
       "0     0.0  \n",
       "1     0.0  \n",
       "2     0.0  \n",
       "3     0.0  \n",
       "4     0.0  "
      ]
     },
     "execution_count": 5,
     "metadata": {},
     "output_type": "execute_result"
    }
   ],
   "source": [
    "df = pd.read_csv(\"iris.csv\")\n",
    "df.head()"
   ]
  },
  {
   "cell_type": "code",
   "execution_count": 6,
   "metadata": {},
   "outputs": [],
   "source": [
    "X = df.drop('target', axis=1)\n",
    "y = df['target']"
   ]
  },
  {
   "cell_type": "code",
   "execution_count": 7,
   "metadata": {},
   "outputs": [],
   "source": [
    "X = X.values\n",
    "y = y.values"
   ]
  },
  {
   "cell_type": "code",
   "execution_count": 8,
   "metadata": {},
   "outputs": [],
   "source": [
    "from sklearn.model_selection import train_test_split"
   ]
  },
  {
   "cell_type": "code",
   "execution_count": 9,
   "metadata": {},
   "outputs": [],
   "source": [
    "X_train, X_test, y_train, y_test = train_test_split(X,y,test_size=0.2, random_state=33)"
   ]
  },
  {
   "cell_type": "code",
   "execution_count": 10,
   "metadata": {},
   "outputs": [],
   "source": [
    "X_train = torch.FloatTensor(X_train)\n",
    "X_test = torch.FloatTensor(X_test)"
   ]
  },
  {
   "cell_type": "code",
   "execution_count": 11,
   "metadata": {},
   "outputs": [],
   "source": [
    "y_train = torch.LongTensor(y_train)\n",
    "y_test = torch.LongTensor(y_test)"
   ]
  },
  {
   "cell_type": "code",
   "execution_count": 12,
   "metadata": {},
   "outputs": [],
   "source": [
    "criterion = nn.CrossEntropyLoss()\n",
    "optimizer = torch.optim.Adam(model.parameters(), lr=0.01)"
   ]
  },
  {
   "cell_type": "code",
   "execution_count": 13,
   "metadata": {},
   "outputs": [
    {
     "name": "stdout",
     "output_type": "stream",
     "text": [
      "Epoch 0 and loss is:  1.1983063220977783\n",
      "Epoch 10 and loss is:  0.8894833326339722\n",
      "Epoch 20 and loss is:  0.5995684266090393\n",
      "Epoch 30 and loss is:  0.43413403630256653\n",
      "Epoch 40 and loss is:  0.33462366461753845\n",
      "Epoch 50 and loss is:  0.23916882276535034\n",
      "Epoch 60 and loss is:  0.1563977301120758\n",
      "Epoch 70 and loss is:  0.10515917837619781\n",
      "Epoch 80 and loss is:  0.08059588819742203\n",
      "Epoch 90 and loss is:  0.06924713402986526\n",
      "Epoch 100 and loss is:  0.06327907741069794\n",
      "Epoch 110 and loss is:  0.059647731482982635\n",
      "Epoch 120 and loss is:  0.05717132240533829\n",
      "Epoch 130 and loss is:  0.05534999817609787\n",
      "Epoch 140 and loss is:  0.05393558368086815\n",
      "Epoch 150 and loss is:  0.0527874194085598\n",
      "Epoch 160 and loss is:  0.05181996151804924\n",
      "Epoch 170 and loss is:  0.05097924917936325\n",
      "Epoch 180 and loss is:  0.05023069679737091\n",
      "Epoch 190 and loss is:  0.04955252632498741\n",
      "Epoch 200 and loss is:  0.04892934858798981\n",
      "Epoch 210 and loss is:  0.048351433128118515\n",
      "Epoch 220 and loss is:  0.04781205579638481\n",
      "Epoch 230 and loss is:  0.04730680212378502\n",
      "Epoch 240 and loss is:  0.0468321330845356\n",
      "Epoch 250 and loss is:  0.0463855043053627\n",
      "Epoch 260 and loss is:  0.045965228229761124\n",
      "Epoch 270 and loss is:  0.045569706708192825\n",
      "Epoch 280 and loss is:  0.04519772157073021\n",
      "Epoch 290 and loss is:  0.04484841972589493\n",
      "Epoch 300 and loss is:  0.044521160423755646\n",
      "Epoch 310 and loss is:  0.044215407222509384\n",
      "Epoch 320 and loss is:  0.04393056780099869\n",
      "Epoch 330 and loss is:  0.0436662919819355\n",
      "Epoch 340 and loss is:  0.04342179372906685\n",
      "Epoch 350 and loss is:  0.04319678992033005\n",
      "Epoch 360 and loss is:  0.042992107570171356\n",
      "Epoch 370 and loss is:  0.04497239366173744\n",
      "Epoch 380 and loss is:  0.04333874210715294\n",
      "Epoch 390 and loss is:  0.04279115051031113\n",
      "Epoch 400 and loss is:  0.04252011701464653\n",
      "Epoch 410 and loss is:  0.04235340282320976\n",
      "Epoch 420 and loss is:  0.04223485291004181\n",
      "Epoch 430 and loss is:  0.04213356971740723\n",
      "Epoch 440 and loss is:  0.04204921796917915\n",
      "Epoch 450 and loss is:  0.04197325184941292\n",
      "Epoch 460 and loss is:  0.041904110461473465\n",
      "Epoch 470 and loss is:  0.04184127599000931\n",
      "Epoch 480 and loss is:  0.041784483939409256\n",
      "Epoch 490 and loss is:  0.04173316806554794\n"
     ]
    }
   ],
   "source": [
    "epochs = 500\n",
    "losses = []\n",
    "\n",
    "for i in range(epochs):\n",
    "    \n",
    "    y_pred = model.forward(X_train)\n",
    "    loss = criterion(y_pred, y_train)\n",
    "    losses.append(loss)\n",
    "    \n",
    "    if i%10 == 0:\n",
    "        print(f'Epoch {i} and loss is:  {loss}')\n",
    "    \n",
    "    optimizer.zero_grad()\n",
    "    loss.backward()\n",
    "    optimizer.step()"
   ]
  },
  {
   "cell_type": "code",
   "execution_count": 14,
   "metadata": {
    "scrolled": true
   },
   "outputs": [
    {
     "data": {
      "text/plain": [
       "Text(0.5, 0, 'Epoch')"
      ]
     },
     "execution_count": 14,
     "metadata": {},
     "output_type": "execute_result"
    },
    {
     "data": {
      "image/png": "[encoded data removed]",
      "text/plain": [
       "<Figure size 432x288 with 1 Axes>"
      ]
     },
     "metadata": {
      "needs_background": "light"
     },
     "output_type": "display_data"
    }
   ],
   "source": [
    "plt.plot(range(epochs), losses)\n",
    "plt.ylabel(\"Loss\")\n",
    "plt.xlabel(\"Epoch\")"
   ]
  },
  {
   "cell_type": "code",
   "execution_count": 15,
   "metadata": {},
   "outputs": [],
   "source": [
    "with torch.no_grad():\n",
    "    y_eval = model.forward(X_test)\n",
    "    loss = criterion(y_eval,y_test)"
   ]
  },
  {
   "cell_type": "code",
   "execution_count": 16,
   "metadata": {},
   "outputs": [
    {
     "data": {
      "text/plain": [
       "tensor(0.0472)"
      ]
     },
     "execution_count": 16,
     "metadata": {},
     "output_type": "execute_result"
    }
   ],
   "source": [
    "loss"
   ]
  },
  {
   "cell_type": "code",
   "execution_count": 26,
   "metadata": {},
   "outputs": [
    {
     "name": "stdout",
     "output_type": "stream",
     "text": [
      "1.)   1   1\n",
      "2.)   1   1\n",
      "3.)   0   0\n",
      "4.)   1   1\n",
      "5.)   2   2\n",
      "6.)   2   2\n",
      "7.)   0   0\n",
      "8.)   0   0\n",
      "9.)   2   2\n",
      "10.)   2   2\n",
      "11.)   2   2\n",
      "12.)   0   0\n",
      "13.)   2   2\n",
      "14.)   1   1\n",
      "15.)   2   2\n",
      "16.)   1   1\n",
      "17.)   2   2\n",
      "18.)   0   0\n",
      "19.)   1   1\n",
      "20.)   2   2\n",
      "21.)   0   0\n",
      "22.)   0   0\n",
      "23.)   2   2\n",
      "24.)   0   0\n",
      "25.)   2   2\n",
      "26.)   2   2\n",
      "27.)   1   1\n",
      "28.)   1   1\n",
      "29.)   2   2\n",
      "30.)   2   2\n",
      "\n",
      " We got 30/30 correct!\n"
     ]
    }
   ],
   "source": [
    "correct = 0 \n",
    "\n",
    "with torch.no_grad():\n",
    "    for i, data in enumerate(X_test):\n",
    "        y_val = model.forward(data)\n",
    "        print(f'{i+1}.)   {y_val.argmax()}   {y_test[i]}')\n",
    "        if y_val.argmax().item() == y_test[i]:\n",
    "            correct+=1\n",
    "\n",
    "print(f'\\n We got {correct}/{i+1} correct!')"
   ]
  },
  {
   "cell_type": "code",
   "execution_count": null,
   "metadata": {},
   "outputs": [],
   "source": []
  },
  {
   "cell_type": "code",
   "execution_count": null,
   "metadata": {},
   "outputs": [],
   "source": []
  }
 ],
 "metadata": {
  "kernelspec": {
   "display_name": "Python 3",
   "language": "python",
   "name": "python3"
  },
  "language_info": {
   "codemirror_mode": {
    "name": "ipython",
    "version": 3
   },
   "file_extension": ".py",
   "mimetype": "text/x-python",
   "name": "python",
   "nbconvert_exporter": "python",
   "pygments_lexer": "ipython3",
   "version": "3.7.2"
  }
 },
 "nbformat": 4,
 "nbformat_minor": 2
}
